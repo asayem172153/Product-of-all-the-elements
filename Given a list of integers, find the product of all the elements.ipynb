{
  "nbformat": 4,
  "nbformat_minor": 0,
  "metadata": {
    "colab": {
      "provenance": []
    },
    "kernelspec": {
      "name": "python3",
      "display_name": "Python 3"
    },
    "language_info": {
      "name": "python"
    }
  },
  "cells": [
    {
      "cell_type": "code",
      "execution_count": 9,
      "metadata": {
        "colab": {
          "base_uri": "https://localhost:8080/"
        },
        "id": "o1huLkm11zMF",
        "outputId": "7a902ee7-31c5-4c07-c5fc-2218e10a8c73"
      },
      "outputs": [
        {
          "output_type": "stream",
          "name": "stdout",
          "text": [
            "Product of list is: 453664992987360000\n"
          ]
        }
      ],
      "source": [
        "list1 = [25, 63, 10, 87, 41, 99, 34, 56, 70, 51, 12]\n",
        "product = 1\n",
        "\n",
        "for i in list1:\n",
        "  if i == 0:\n",
        "    product = 0\n",
        "    break\n",
        "  else:\n",
        "    product *= i\n",
        "\n",
        "print('Product of list is:',product)\n"
      ]
    }
  ]
}